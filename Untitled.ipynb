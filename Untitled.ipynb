{
 "cells": [
  {
   "cell_type": "code",
   "execution_count": 1,
   "id": "1bcde788",
   "metadata": {},
   "outputs": [],
   "source": [
    "import random\n",
    "\n",
    "DECK_COMPLETE = [2, 3, 4, 5, 6, 7, 8, 9, 10, 'J', 'Q', 'K', 'A',\n",
    "                 2, 3, 4, 5, 6, 7, 8, 9, 10, 'J', 'Q', 'K', 'A',\n",
    "                 2, 3, 4, 5, 6, 7, 8, 9, 10, 'J', 'Q', 'K', 'A',\n",
    "                 2, 3, 4, 5, 6, 7, 8, 9, 10, 'J', 'Q', 'K', 'A']\n",
    "\n",
    "BASIC_STRATEGY = [['H','D','D','D','D','H','H','H','H','H'],\n",
    "                  ['D','D','D','D','D','D','D','D','H','H'],\n",
    "                  ['D','D','D','D','D','D','D','D','D','H'],\n",
    "                  ['H','H','S','S','S','H','H','H','H','H'],\n",
    "                  ['S','S','S','S','S','H','H','H','H','H'],\n",
    "                  ['S','S','S','S','S','H','H','H','H','H'],\n",
    "                  ['S','S','S','S','S','H','H','H','H','H'],\n",
    "                  ['S','S','S','S','S','H','H','H','H','H']]"
   ]
  },
  {
   "cell_type": "code",
   "execution_count": 2,
   "id": "7563b235",
   "metadata": {},
   "outputs": [],
   "source": [
    "def rand_card(deck_func):\n",
    "    card = random.choice(deck_func)\n",
    "    deck_func.remove(card)\n",
    "    return card\n",
    "\n",
    "def score(cards):\n",
    "    score = 0\n",
    "    possible_hands = []\n",
    "    aces = 0\n",
    "    \n",
    "    for x in cards:\n",
    "        if type(x) == int:\n",
    "            score += x\n",
    "        elif x in ['J', 'Q', 'K']:\n",
    "            score += 10\n",
    "        else:\n",
    "            score += 1\n",
    "            aces += 1\n",
    "            \n",
    "    for i in range(aces+1):\n",
    "        if (score + i * 10) <= 21:\n",
    "            possible_hands.append(score + i * 10)\n",
    "\n",
    "    if(possible_hands) == []:\n",
    "        return -1\n",
    "    return max(possible_hands)"
   ]
  },
  {
   "cell_type": "code",
   "execution_count": 3,
   "id": "ec2349de",
   "metadata": {},
   "outputs": [],
   "source": [
    "#stand on 17\n",
    "def bj_round():\n",
    "    deck_current = DECK_COMPLETE.copy()\n",
    "    \n",
    "    player_cards = [rand_card(deck_func=deck_current), rand_card(deck_func=deck_current)]\n",
    "    player_score = score(player_cards)\n",
    "    dealer_cards = [rand_card(deck_func=deck_current)]\n",
    "    dealer_score = score(dealer_cards)\n",
    "    \n",
    "    if(player_score==21):\n",
    "        return ('Win', 21)\n",
    "    \n",
    "    game_state = 'Ongoing'\n",
    "    strategy = ''\n",
    "    double_flag = 0\n",
    "    \n",
    "    while game_state == 'Ongoing':\n",
    "        if(player_score<=8):\n",
    "            strategy = 'H'\n",
    "        elif(player_score>=17):\n",
    "            strategy = 'S'\n",
    "        else:\n",
    "            strategy = BASIC_STRATEGY[(player_score-9)][(dealer_score-2)]\n",
    "\n",
    "        if(strategy=='D'):\n",
    "            double_flag = 1\n",
    "            player_cards.append(rand_card(deck_func=deck_current))\n",
    "            player_score = score(player_cards)\n",
    "            if(player_score==-1):\n",
    "                game_state='L'\n",
    "            else:\n",
    "                game_state='S'\n",
    "        if(strategy=='H'):\n",
    "            player_cards.append(rand_card(deck_func=deck_current))\n",
    "            player_score = score(player_cards)\n",
    "            if(player_score==-1):\n",
    "                game_state='L'\n",
    "        if(strategy=='S'):\n",
    "            game_state='S'\n",
    "        \n",
    "    if game_state == 'Loss':\n",
    "        return ('Loss', player_score)\n",
    "    \n",
    "    while((dealer_score<17) ^ (dealer_score ==-1)):\n",
    "        dealer_cards.append(rand_card(deck_func=deck_current))\n",
    "        dealer_score = score(dealer_cards)\n",
    "    \n",
    "    if((player_score > dealer_score) or (dealer_score>21)):\n",
    "        return ('Win', player_score)\n",
    "    elif(player_score == dealer_score):\n",
    "        return ('Draw', player_score)\n",
    "    else:\n",
    "        return ('Loss', player_score)"
   ]
  },
  {
   "cell_type": "code",
   "execution_count": 4,
   "id": "fb8ca4c2",
   "metadata": {},
   "outputs": [],
   "source": [
    "results={'Win':[], 'Draw':[], 'Loss':[]}"
   ]
  },
  {
   "cell_type": "code",
   "execution_count": 5,
   "id": "8282db82",
   "metadata": {},
   "outputs": [],
   "source": [
    "for _ in range(1000000):\n",
    "    wdl, total = bj_round()\n",
    "    results[wdl].append(total)"
   ]
  },
  {
   "cell_type": "code",
   "execution_count": 6,
   "id": "ef01f30e",
   "metadata": {
    "hide_input": false
   },
   "outputs": [
    {
     "name": "stdout",
     "output_type": "stream",
     "text": [
      "##############\n",
      "21:21.972%\n",
      "20:25.175%\n",
      "19:14.888%\n",
      "18:11.382%\n",
      "17:7.856%\n",
      "16:3.723%\n",
      "15:3.914%\n",
      "14:4.024%\n",
      "13:4.214%\n",
      "12:2.771%\n",
      "11:0.082%\n",
      "##############\n",
      "21:5.739%\n",
      "20:22.925%\n",
      "19:12.803%\n",
      "18:13.596%\n",
      "17:14.853%\n",
      "-1:30.085%\n",
      "##############\n",
      "20:4.389%\n",
      "19:8.114%\n",
      "18:11.949%\n",
      "17:16.723%\n",
      "16:5.869%\n",
      "15:6.115%\n",
      "14:6.145%\n",
      "13:6.54%\n",
      "12:4.104%\n",
      "11:0.107%\n",
      "-1:29.946%\n"
     ]
    }
   ],
   "source": [
    "from collections import Counter\n",
    "\n",
    "for wasd in results.values():\n",
    "    print(\"##############\")\n",
    "    \n",
    "    total=dict(Counter(wasd))\n",
    "    \n",
    "    sorted_dict = dict(sorted(total.items(), reverse=True))\n",
    "    \n",
    "    for key, value in sorted_dict.items():\n",
    "        print(f\"{key}:{round(value*100/sum(sorted_dict.values()),3)}%\")      "
   ]
  },
  {
   "cell_type": "code",
   "execution_count": 111,
   "id": "e6baf58d",
   "metadata": {},
   "outputs": [
    {
     "data": {
      "text/plain": [
       "('Win', 21, 12)"
      ]
     },
     "execution_count": 111,
     "metadata": {},
     "output_type": "execute_result"
    }
   ],
   "source": [
    "def bj_round_till_win(cum_loss=0):\n",
    "    deck_current = DECK_COMPLETE.copy()\n",
    "    \n",
    "    player_cards = [rand_card(deck_func=deck_current), rand_card(deck_func=deck_current)]\n",
    "    player_score = score(player_cards)\n",
    "    dealer_cards = [rand_card(deck_func=deck_current)]\n",
    "    dealer_score = score(dealer_cards)\n",
    "    \n",
    "    if(player_score==21):\n",
    "        return ('Win', 21, 21 + cum_loss)\n",
    "    \n",
    "    game_state = 'Ongoing'\n",
    "    strategy = ''\n",
    "    double_flag = 0\n",
    "    \n",
    "    while game_state == 'Ongoing':\n",
    "        if(player_score<=8):\n",
    "            strategy = 'H'\n",
    "        elif(player_score>=17):\n",
    "            strategy = 'S'\n",
    "        else:\n",
    "            strategy = BASIC_STRATEGY[(player_score-9)][(dealer_score-2)]\n",
    "\n",
    "        if(strategy=='D'):\n",
    "            player_cards.append(rand_card(deck_func=deck_current))\n",
    "            player_score = score(player_cards)\n",
    "            if(player_score==-1):\n",
    "                cum_loss += 1\n",
    "                game_state='L'\n",
    "            else:\n",
    "                cum_loss += -1\n",
    "                game_state='S'\n",
    "        if(strategy=='H'):\n",
    "            player_cards.append(rand_card(deck_func=deck_current))\n",
    "            player_score = score(player_cards)\n",
    "            if(player_score==-1):\n",
    "                game_state='L'\n",
    "        if(strategy=='S'):\n",
    "            game_state='S'\n",
    "        \n",
    "    if game_state == 'Loss':\n",
    "        return bj_round_till_win(cum_loss=cum_loss-2)\n",
    "    \n",
    "    while((dealer_score<17) ^ (dealer_score ==-1)):\n",
    "        dealer_cards.append(rand_card(deck_func=deck_current))\n",
    "        dealer_score = score(dealer_cards)\n",
    "    \n",
    "    if((player_score > dealer_score) or (dealer_score>21)):\n",
    "        return ('Win', player_score, player_score + cum_loss)\n",
    "    elif(player_score == dealer_score):\n",
    "        return bj_round_till_win(cum_loss=cum_loss)\n",
    "    else:\n",
    "        return bj_round_till_win(cum_loss=cum_loss-2)\n",
    "        \n",
    "bj_round_till_win()"
   ]
  },
  {
   "cell_type": "code",
   "execution_count": 161,
   "id": "8b48de42",
   "metadata": {
    "scrolled": true
   },
   "outputs": [
    {
     "name": "stdout",
     "output_type": "stream",
     "text": [
      "[18, 17, 15, 15, 14, 7]\n",
      "[17, 15, 13, 10, 9, 8]\n",
      "[16, 16, 12, 11, 10, 9]\n",
      "[15, 13, 13, 12, 10, 7]\n"
     ]
    }
   ],
   "source": [
    "for _ in range(4):\n",
    "    player = []\n",
    "    for _ in range(6):\n",
    "        player.append(max(bj_round_till_win()[2]-3,7))\n",
    "    print(sorted(player, reverse=True))"
   ]
  },
  {
   "cell_type": "code",
   "execution_count": 130,
   "id": "21968c8a",
   "metadata": {},
   "outputs": [
    {
     "data": {
      "text/plain": [
       "('L', 1)"
      ]
     },
     "execution_count": 130,
     "metadata": {},
     "output_type": "execute_result"
    }
   ],
   "source": [
    "def bj_round_till_win_2(cum_loss=0):\n",
    "    deck_current = DECK_COMPLETE.copy()\n",
    "    \n",
    "    player_cards = [rand_card(deck_func=deck_current), rand_card(deck_func=deck_current)]\n",
    "    player_score = score(player_cards)\n",
    "    dealer_cards = [rand_card(deck_func=deck_current)]\n",
    "    dealer_score = score(dealer_cards)\n",
    "    \n",
    "    if(player_score==21):\n",
    "        return ('Win', 21, 21 - cum_loss)\n",
    "    \n",
    "    game_state = 'Ongoing'\n",
    "    strategy = ''\n",
    "    double_flag = 0\n",
    "    \n",
    "    while game_state == 'Ongoing':\n",
    "        if(player_score<=8):\n",
    "            strategy = 'H'\n",
    "        elif(player_score>=17):\n",
    "            strategy = 'S'\n",
    "        else:\n",
    "            strategy = BASIC_STRATEGY[(player_score-9)][(dealer_score-2)]\n",
    "\n",
    "        if(strategy=='D'):\n",
    "            player_cards.append(rand_card(deck_func=deck_current))\n",
    "            player_score = score(player_cards)\n",
    "            if(player_score==-1):\n",
    "                cum_loss += 1\n",
    "                game_state='L'\n",
    "            else:\n",
    "                cum_loss += -1\n",
    "                game_state='S'\n",
    "        if(strategy=='H'):\n",
    "            player_cards.append(rand_card(deck_func=deck_current))\n",
    "            player_score = score(player_cards)\n",
    "            if(player_score==-1):\n",
    "                game_state='L'\n",
    "        if(strategy=='S'):\n",
    "            game_state='S'\n",
    "        \n",
    "    if game_state == 'Loss':\n",
    "        return ('L', cum_loss-1)\n",
    "    \n",
    "    while((dealer_score<17) ^ (dealer_score ==-1)):\n",
    "        dealer_cards.append(rand_card(deck_func=deck_current))\n",
    "        dealer_score = score(dealer_cards)\n",
    "    \n",
    "    if((player_score > dealer_score) or (dealer_score>21)):\n",
    "        return ('Win', cum_loss, player_score - cum_loss)\n",
    "    elif(player_score == dealer_score):\n",
    "        return ('D', cum_loss)\n",
    "    else:\n",
    "        return ('L', cum_loss+1)\n",
    "        \n",
    "bj_round_till_win_2()"
   ]
  },
  {
   "cell_type": "code",
   "execution_count": 133,
   "id": "10de90f9",
   "metadata": {},
   "outputs": [
    {
     "name": "stdout",
     "output_type": "stream",
     "text": [
      "[21, -1, -1, -2, -2, -3]\n",
      "[20, 20, 19, 17, 17, 16]\n",
      "[19, 19, 17, 16, 14, 11]\n",
      "[19, 18, 18, 17, 14, -3]\n"
     ]
    }
   ],
   "source": [
    "for _ in range(4):\n",
    "    cum_loss=0\n",
    "    player = []\n",
    "    while(len(player)<6):\n",
    "        \n",
    "        game = bj_round_till_win_2(cum_loss)\n",
    "        cum_loss = game[1]\n",
    "        \n",
    "        if(game[0]=='Win'):            \n",
    "            player.append(game[2])\n",
    "        \n",
    "    print(sorted(player, reverse=True))"
   ]
  }
 ],
 "metadata": {
  "kernelspec": {
   "display_name": "Python 3 (ipykernel)",
   "language": "python",
   "name": "python3"
  },
  "language_info": {
   "codemirror_mode": {
    "name": "ipython",
    "version": 3
   },
   "file_extension": ".py",
   "mimetype": "text/x-python",
   "name": "python",
   "nbconvert_exporter": "python",
   "pygments_lexer": "ipython3",
   "version": "3.12.2"
  },
  "toc": {
   "base_numbering": 1,
   "nav_menu": {},
   "number_sections": true,
   "sideBar": true,
   "skip_h1_title": false,
   "title_cell": "Table of Contents",
   "title_sidebar": "Contents",
   "toc_cell": false,
   "toc_position": {},
   "toc_section_display": true,
   "toc_window_display": false
  }
 },
 "nbformat": 4,
 "nbformat_minor": 5
}
