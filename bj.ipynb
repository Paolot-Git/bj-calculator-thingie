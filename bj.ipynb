{
 "cells": [
  {
   "cell_type": "code",
   "execution_count": 1,
   "id": "1bcde788",
   "metadata": {},
   "outputs": [],
   "source": [
    "import random\n",
    "from collections import Counter\n",
    "\n",
    "DECK_COMPLETE = [2, 3, 4, 5, 6, 7, 8, 9, 10, 'J', 'Q', 'K', 'A',\n",
    "                 2, 3, 4, 5, 6, 7, 8, 9, 10, 'J', 'Q', 'K', 'A',\n",
    "                 2, 3, 4, 5, 6, 7, 8, 9, 10, 'J', 'Q', 'K', 'A',\n",
    "                 2, 3, 4, 5, 6, 7, 8, 9, 10, 'J', 'Q', 'K', 'A']\n",
    "\n",
    "#hit on 8 or less\n",
    "#stay on 17 or more\n",
    "#line determined by player's hand score, starting on a 9\n",
    "#row determined by dealer's hand score, starting on a 2\n",
    "#H for hit, D for double, S for stand\n",
    "BASIC_STRATEGY = [['H','D','D','D','D','H','H','H','H','H'],\n",
    "                  ['D','D','D','D','D','D','D','D','H','H'],\n",
    "                  ['D','D','D','D','D','D','D','D','D','H'],\n",
    "                  ['H','H','S','S','S','H','H','H','H','H'],\n",
    "                  ['S','S','S','S','S','H','H','H','H','H'],\n",
    "                  ['S','S','S','S','S','H','H','H','H','H'],\n",
    "                  ['S','S','S','S','S','H','H','H','H','H'],\n",
    "                  ['S','S','S','S','S','H','H','H','H','H']]"
   ]
  },
  {
   "cell_type": "code",
   "execution_count": 2,
   "id": "7563b235",
   "metadata": {},
   "outputs": [],
   "source": [
    "def rand_card(deck_func):\n",
    "    card = random.choice(deck_func)\n",
    "    deck_func.remove(card)\n",
    "    return card\n",
    "\n",
    "\n",
    "def score(cards):\n",
    "    score = 0\n",
    "    possible_hands = []\n",
    "    aces = 0\n",
    "\n",
    "    for card in cards:\n",
    "        if type(card) == int:\n",
    "            score += card\n",
    "        elif card in [\"J\", \"Q\", \"K\"]:\n",
    "            score += 10\n",
    "        else:\n",
    "            score += 1\n",
    "            aces += 1\n",
    "\n",
    "    for i in range(aces + 1):\n",
    "        if (score + i * 10) <= 21:\n",
    "            possible_hands.append(score + i * 10)\n",
    "\n",
    "    if (possible_hands) == []:\n",
    "        return -1\n",
    "    return max(possible_hands)"
   ]
  },
  {
   "cell_type": "code",
   "execution_count": 3,
   "id": "ec2349de",
   "metadata": {},
   "outputs": [],
   "source": [
    "def bj_round(hit_on_17=False):\n",
    "\n",
    "    deck_current = DECK_COMPLETE.copy()\n",
    "\n",
    "    player_cards = [\n",
    "        rand_card(deck_func=deck_current),\n",
    "        rand_card(deck_func=deck_current),\n",
    "    ]\n",
    "    player_score = score(player_cards)\n",
    "    dealer_cards = [rand_card(deck_func=deck_current)]\n",
    "    dealer_score = score(dealer_cards)\n",
    "\n",
    "    if player_score == 21:\n",
    "        return (\"Win\", 21)\n",
    "\n",
    "    game_state = \"Player_Phase\"\n",
    "    strategy = \"\"\n",
    "\n",
    "    while game_state == \"Player_Phase\":\n",
    "        if player_score <= 8:\n",
    "            strategy = \"H\"\n",
    "        elif player_score >= 17 + hit_on_17:\n",
    "            strategy = \"S\"\n",
    "        else:\n",
    "            strategy = BASIC_STRATEGY[(player_score - 9)][(dealer_score - 2)]\n",
    "\n",
    "        if strategy == \"D\":\n",
    "            player_cards.append(rand_card(deck_func=deck_current))\n",
    "            player_score = score(player_cards)\n",
    "            if player_score == -1:\n",
    "                return (\"Loss\", player_score)\n",
    "            else:\n",
    "                game_state = \"Dealer_Phase\"\n",
    "        elif strategy == \"H\":\n",
    "            player_cards.append(rand_card(deck_func=deck_current))\n",
    "            player_score = score(player_cards)\n",
    "            if player_score == -1:\n",
    "                return (\"Loss\", player_score)\n",
    "        elif strategy == \"S\":\n",
    "            game_state = \"Dealer_Phase\"\n",
    "\n",
    "    while dealer_score < 17 + hit_on_17:\n",
    "        dealer_cards.append(rand_card(deck_func=deck_current))\n",
    "        dealer_score = score(dealer_cards)\n",
    "        if dealer_score == -1:\n",
    "            return (\"Win\", player_score)\n",
    "\n",
    "    if player_score > dealer_score:\n",
    "        return (\"Win\", player_score)\n",
    "    elif player_score == dealer_score:\n",
    "        return (\"Draw\", player_score)\n",
    "    elif player_score < dealer_score:\n",
    "        return (\"Loss\", player_score)"
   ]
  },
  {
   "cell_type": "code",
   "execution_count": 4,
   "id": "1f781c81",
   "metadata": {},
   "outputs": [
    {
     "data": {
      "text/plain": [
       "('Win', 15)"
      ]
     },
     "execution_count": 4,
     "metadata": {},
     "output_type": "execute_result"
    }
   ],
   "source": [
    "bj_round()"
   ]
  },
  {
   "cell_type": "code",
   "execution_count": 5,
   "id": "8282db82",
   "metadata": {
    "scrolled": true
   },
   "outputs": [
    {
     "name": "stdout",
     "output_type": "stream",
     "text": [
      "Win:\n",
      "21:21.935%\n",
      "20:25.168%\n",
      "19:14.809%\n",
      "18:11.491%\n",
      "17:7.883%\n",
      "16:3.669%\n",
      "15:3.945%\n",
      "14:3.97%\n",
      "13:4.279%\n",
      "12:2.768%\n",
      "11:0.083%\n",
      "\n",
      "Draw:\n",
      "21:7.913%\n",
      "20:33.056%\n",
      "19:18.179%\n",
      "18:19.261%\n",
      "17:21.592%\n",
      "\n",
      "Loss:\n",
      "20:4.04%\n",
      "19:7.539%\n",
      "18:11.029%\n",
      "17:15.445%\n",
      "16:5.32%\n",
      "15:5.632%\n",
      "14:5.751%\n",
      "13:5.972%\n",
      "12:3.782%\n",
      "11:0.103%\n",
      "-1:35.388%\n",
      "\n"
     ]
    }
   ],
   "source": [
    "results = {\"Win\": [], \"Draw\": [], \"Loss\": []}\n",
    "\n",
    "for _ in range(1000000):\n",
    "    wdl, total = bj_round()\n",
    "    results[wdl].append(total)\n",
    "\n",
    "for key, values in results.items():\n",
    "    print(f\"{key}:\")\n",
    "\n",
    "    total = dict(Counter(values))\n",
    "\n",
    "    sorted_dict = dict(sorted(total.items(), reverse=True))\n",
    "\n",
    "    for key, value in sorted_dict.items():\n",
    "        print(f\"{key}:{round(value*100/sum(sorted_dict.values()), 3)}%\")\n",
    "    print(\"\")"
   ]
  },
  {
   "cell_type": "code",
   "execution_count": 6,
   "id": "e6baf58d",
   "metadata": {},
   "outputs": [
    {
     "data": {
      "text/plain": [
       "('Win', 16)"
      ]
     },
     "execution_count": 6,
     "metadata": {},
     "output_type": "execute_result"
    }
   ],
   "source": [
    "def bj_round_till_win_single(cum_loss=0, penalty_per_loss=2):\n",
    "    current_round = bj_round()\n",
    "    if current_round[0] == \"Win\":\n",
    "        return (current_round[0], current_round[1] - cum_loss)\n",
    "    if current_round[0] == \"Draw\":\n",
    "        return bj_round_till_win_single(cum_loss, penalty_per_loss)\n",
    "    if current_round[0] == \"Loss\":\n",
    "        return bj_round_till_win_single(cum_loss + penalty_per_loss, penalty_per_loss)\n",
    "\n",
    "\n",
    "bj_round_till_win_single()"
   ]
  },
  {
   "cell_type": "code",
   "execution_count": 7,
   "id": "8b48de42",
   "metadata": {
    "scrolled": true
   },
   "outputs": [
    {
     "name": "stdout",
     "output_type": "stream",
     "text": [
      "[20, 18, 18, 16, 11, 8]\n",
      "[21, 21, 21, 14, 11, 10]\n",
      "[19, 18, 18, 12, 12, 10]\n",
      "[20, 18, 18, 16, 14, 14]\n"
     ]
    }
   ],
   "source": [
    "# min score 7\n",
    "for _ in range(4):\n",
    "    player = []\n",
    "    for _ in range(6):\n",
    "        player.append(max(bj_round_till_win_single()[1], 7))\n",
    "    print(sorted(player, reverse=True))"
   ]
  },
  {
   "cell_type": "code",
   "execution_count": 8,
   "id": "8eb6bd62",
   "metadata": {},
   "outputs": [
    {
     "data": {
      "text/plain": [
       "[19, 16, 17, 14, 9, 9]"
      ]
     },
     "execution_count": 8,
     "metadata": {},
     "output_type": "execute_result"
    }
   ],
   "source": [
    "def bj_round_till_win_group(size=6, cum_loss=0, penalty_per_loss=1):\n",
    "    group = []\n",
    "    while len(group) < size:\n",
    "        current_round = bj_round()\n",
    "        if current_round[0] == \"Win\":\n",
    "            group.append(current_round[1] - cum_loss)\n",
    "        if current_round[0] == \"Draw\":\n",
    "            cum_loss += penalty_per_loss\n",
    "        if current_round[0] == \"Loss\":\n",
    "            cum_loss += penalty_per_loss\n",
    "\n",
    "    return group\n",
    "\n",
    "\n",
    "bj_round_till_win_group()"
   ]
  },
  {
   "cell_type": "code",
   "execution_count": 9,
   "id": "10de90f9",
   "metadata": {},
   "outputs": [
    {
     "name": "stdout",
     "output_type": "stream",
     "text": [
      "[14, 18, 18, 8, 13, 11]\n",
      "[16, 15, 16, 12, 11, 13]\n",
      "[19, 13, 17, 9, 15, 14]\n",
      "[20, 21, 19, 17, 17, 14]\n"
     ]
    }
   ],
   "source": [
    "for _ in range(4):\n",
    "    print(bj_round_till_win_group())"
   ]
  }
 ],
 "metadata": {
  "kernelspec": {
   "display_name": "Python 3 (ipykernel)",
   "language": "python",
   "name": "python3"
  },
  "language_info": {
   "codemirror_mode": {
    "name": "ipython",
    "version": 3
   },
   "file_extension": ".py",
   "mimetype": "text/x-python",
   "name": "python",
   "nbconvert_exporter": "python",
   "pygments_lexer": "ipython3",
   "version": "3.12.2"
  },
  "toc": {
   "base_numbering": 1,
   "nav_menu": {},
   "number_sections": true,
   "sideBar": true,
   "skip_h1_title": false,
   "title_cell": "Table of Contents",
   "title_sidebar": "Contents",
   "toc_cell": false,
   "toc_position": {},
   "toc_section_display": true,
   "toc_window_display": false
  }
 },
 "nbformat": 4,
 "nbformat_minor": 5
}
