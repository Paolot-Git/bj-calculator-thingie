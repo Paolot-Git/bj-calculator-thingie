{
 "cells": [
  {
   "cell_type": "code",
   "execution_count": 1,
   "id": "1bcde788",
   "metadata": {},
   "outputs": [],
   "source": [
    "import random\n",
    "from collections import Counter\n",
    "\n",
    "DECK_COMPLETE = [2, 3, 4, 5, 6, 7, 8, 9, 10, 'J', 'Q', 'K', 'A',\n",
    "                 2, 3, 4, 5, 6, 7, 8, 9, 10, 'J', 'Q', 'K', 'A',\n",
    "                 2, 3, 4, 5, 6, 7, 8, 9, 10, 'J', 'Q', 'K', 'A',\n",
    "                 2, 3, 4, 5, 6, 7, 8, 9, 10, 'J', 'Q', 'K', 'A']\n",
    "\n",
    "#hit on 8 or less\n",
    "#stay on 17 or more\n",
    "#line determined by player's hand score, starting on a 9\n",
    "#row determined by dealer's hand score, starting on a 2\n",
    "#H for hit, D for double, S for stand\n",
    "BASIC_STRATEGY = [['H','D','D','D','D','H','H','H','H','H'],\n",
    "                  ['D','D','D','D','D','D','D','D','H','H'],\n",
    "                  ['D','D','D','D','D','D','D','D','D','H'],\n",
    "                  ['H','H','S','S','S','H','H','H','H','H'],\n",
    "                  ['S','S','S','S','S','H','H','H','H','H'],\n",
    "                  ['S','S','S','S','S','H','H','H','H','H'],\n",
    "                  ['S','S','S','S','S','H','H','H','H','H'],\n",
    "                  ['S','S','S','S','S','H','H','H','H','H']]"
   ]
  },
  {
   "cell_type": "code",
   "execution_count": 2,
   "id": "7563b235",
   "metadata": {},
   "outputs": [],
   "source": [
    "def rand_card(deck_func):\n",
    "    card = random.choice(deck_func)\n",
    "    deck_func.remove(card)\n",
    "    return card\n",
    "\n",
    "\n",
    "def score(cards):\n",
    "    score = 0\n",
    "    possible_hands = []\n",
    "    aces = 0\n",
    "\n",
    "    for card in cards:\n",
    "        if type(card) == int:\n",
    "            score += card\n",
    "        elif card in [\"J\", \"Q\", \"K\"]:\n",
    "            score += 10\n",
    "        else:\n",
    "            score += 1\n",
    "            aces += 1\n",
    "\n",
    "    for i in range(aces + 1):\n",
    "        if (score + i * 10) <= 21:\n",
    "            possible_hands.append(score + i * 10)\n",
    "\n",
    "    if (possible_hands) == []:\n",
    "        return -1\n",
    "    return max(possible_hands)"
   ]
  },
  {
   "cell_type": "code",
   "execution_count": 3,
   "id": "ec2349de",
   "metadata": {},
   "outputs": [],
   "source": [
    "def bj_round(hit_on_17=False):\n",
    "\n",
    "    deck_current = DECK_COMPLETE.copy()\n",
    "\n",
    "    player_cards = [\n",
    "        rand_card(deck_func=deck_current),\n",
    "        rand_card(deck_func=deck_current),\n",
    "    ]\n",
    "    player_score = score(player_cards)\n",
    "    dealer_cards = [rand_card(deck_func=deck_current)]\n",
    "    dealer_score = score(dealer_cards)\n",
    "\n",
    "    if player_score == 21:\n",
    "        return (\"Win\", 21)\n",
    "\n",
    "    game_state = \"Player_Phase\"\n",
    "    while game_state == \"Player_Phase\":\n",
    "        if player_score <= 8:\n",
    "            strategy = \"H\"\n",
    "        elif player_score >= 17 + hit_on_17:\n",
    "            strategy = \"S\"\n",
    "        else:\n",
    "            strategy = BASIC_STRATEGY[(player_score - 9)][(dealer_score - 2)]\n",
    "\n",
    "        if strategy == \"S\":\n",
    "            game_state = \"Dealer_Phase\"\n",
    "        else:\n",
    "            player_cards.append(rand_card(deck_func=deck_current))\n",
    "            player_score = score(player_cards)\n",
    "            if player_score == -1:\n",
    "                return (\"Loss\", player_score)\n",
    "            elif strategy == \"D\":\n",
    "                game_state = \"Dealer_Phase\"\n",
    "\n",
    "    while dealer_score < 17 + hit_on_17:\n",
    "        dealer_cards.append(rand_card(deck_func=deck_current))\n",
    "        dealer_score = score(dealer_cards)\n",
    "        if dealer_score == -1:\n",
    "            if(strategy == \"D\"):\n",
    "                return (\"Win_Double\", player_score)\n",
    "            return (\"Win\", player_score)\n",
    "\n",
    "    if player_score > dealer_score:\n",
    "        if(strategy == \"D\"):\n",
    "            return (\"Win_Double\", player_score)\n",
    "        return (\"Win\", player_score)\n",
    "    elif player_score == dealer_score:\n",
    "        return (\"Draw\", player_score)\n",
    "    elif player_score < dealer_score:\n",
    "        return (\"Loss\", player_score)"
   ]
  },
  {
   "cell_type": "code",
   "execution_count": 4,
   "id": "6ee964ff",
   "metadata": {},
   "outputs": [
    {
     "data": {
      "text/plain": [
       "('Loss', 17)"
      ]
     },
     "execution_count": 4,
     "metadata": {},
     "output_type": "execute_result"
    }
   ],
   "source": [
    "bj_round()"
   ]
  },
  {
   "cell_type": "code",
   "execution_count": 5,
   "id": "8282db82",
   "metadata": {
    "scrolled": true
   },
   "outputs": [
    {
     "name": "stdout",
     "output_type": "stream",
     "text": [
      "Win: 38.177% of all games\n",
      "21: 20.47%\n",
      "20: 25.74%\n",
      "19: 15.15%\n",
      "18: 12.06%\n",
      "17: 8.29%\n",
      "16: 3.61%\n",
      "15: 3.88%\n",
      "14: 3.97%\n",
      "13: 4.26%\n",
      "12: 2.57%\n",
      "\n",
      "Win_Double: 5.154% of all games\n",
      "21: 33.13%\n",
      "20: 21.18%\n",
      "19: 12.17%\n",
      "18: 6.45%\n",
      "17: 4.42%\n",
      "16: 4.4%\n",
      "15: 4.34%\n",
      "14: 4.32%\n",
      "13: 4.27%\n",
      "12: 4.59%\n",
      "11: 0.72%\n",
      "\n",
      "Draw: 8.551% of all games\n",
      "21: 8.03%\n",
      "20: 32.87%\n",
      "19: 18.28%\n",
      "18: 19.33%\n",
      "17: 21.49%\n",
      "\n",
      "Loss: 48.118% of all games\n",
      "20: 4.02%\n",
      "19: 7.49%\n",
      "18: 11.15%\n",
      "17: 15.5%\n",
      "16: 5.33%\n",
      "15: 5.61%\n",
      "14: 5.68%\n",
      "13: 5.99%\n",
      "12: 3.77%\n",
      "11: 0.1%\n",
      "-1: 35.35%\n",
      "\n"
     ]
    }
   ],
   "source": [
    "results = {\"Win\": [], \"Win_Double\": [], \"Draw\": [], \"Loss\": []}\n",
    "\n",
    "for _ in range(10000000):\n",
    "    round_result, round_score = bj_round()\n",
    "    results[round_result].append(round_score)\n",
    "\n",
    "for key, values in results.items():\n",
    "    total = dict(Counter(values))\n",
    "    print(f\"{key}: {round(len(values)*100/10000000, 3)}% of all games\")\n",
    "\n",
    "    sorted_dict = dict(sorted(total.items(), reverse=True))\n",
    "\n",
    "    for key, value in sorted_dict.items():\n",
    "        print(f\"{key}: {round(value*100/sum(sorted_dict.values()), 2)}%\")\n",
    "    print(\"\")"
   ]
  },
  {
   "cell_type": "code",
   "execution_count": 6,
   "id": "e6baf58d",
   "metadata": {},
   "outputs": [
    {
     "data": {
      "text/plain": [
       "('Win', 17)"
      ]
     },
     "execution_count": 6,
     "metadata": {},
     "output_type": "execute_result"
    }
   ],
   "source": [
    "def bj_round_till_win_single(cum_loss=0, penalty_per_loss=2):\n",
    "    current_round = bj_round()\n",
    "    if current_round[0] == \"Win\":\n",
    "        return (current_round[0], current_round[1] - cum_loss)\n",
    "    if current_round[0] == \"Win_Double\":\n",
    "        return (current_round[0], current_round[1] - cum_loss + 2)\n",
    "    if current_round[0] == \"Draw\":\n",
    "        return bj_round_till_win_single(cum_loss, penalty_per_loss)\n",
    "    if current_round[0] == \"Loss\":\n",
    "        return bj_round_till_win_single(cum_loss + penalty_per_loss, penalty_per_loss)\n",
    "\n",
    "\n",
    "bj_round_till_win_single()"
   ]
  },
  {
   "cell_type": "code",
   "execution_count": 36,
   "id": "8b48de42",
   "metadata": {
    "scrolled": true
   },
   "outputs": [
    {
     "name": "stdout",
     "output_type": "stream",
     "text": [
      "[14, 13, 12, 12, 11, 7]\n",
      "[18, 15, 14, 13, 9, 7]\n",
      "[17, 15, 14, 14, 13, 7]\n",
      "[17, 16, 15, 14, 12, 11]\n"
     ]
    }
   ],
   "source": [
    "# total -3, min score 7\n",
    "for _ in range(4):\n",
    "    player = []\n",
    "    for _ in range(6):\n",
    "        player.append(max(bj_round_till_win_single()[1] - 3, 7))\n",
    "    print(sorted(player, reverse=True))"
   ]
  },
  {
   "cell_type": "code",
   "execution_count": 33,
   "id": "a3ceb369",
   "metadata": {},
   "outputs": [
    {
     "data": {
      "text/plain": [
       "[17, 16, 13, 11, 7, 4]"
      ]
     },
     "execution_count": 33,
     "metadata": {},
     "output_type": "execute_result"
    }
   ],
   "source": [
    "def bj_round_till_win_group(size=6, cum_loss=0, penalty_per_loss=1):\n",
    "    group = []\n",
    "    while len(group) < size:\n",
    "        current_round = bj_round()\n",
    "        if current_round[0] == \"Win\":\n",
    "            group.append(current_round[1] - cum_loss)\n",
    "        if current_round[0] == \"Win_Double\":\n",
    "            group.append(current_round[1] - cum_loss + 2)\n",
    "        if current_round[0] == \"Loss\":\n",
    "            cum_loss += penalty_per_loss\n",
    "\n",
    "    return sorted(group, reverse=True)\n",
    "\n",
    "\n",
    "bj_round_till_win_group()"
   ]
  },
  {
   "cell_type": "code",
   "execution_count": 34,
   "id": "10de90f9",
   "metadata": {},
   "outputs": [
    {
     "name": "stdout",
     "output_type": "stream",
     "text": [
      "[20, 17, 14, 11, 10, 9]\n",
      "[20, 14, 12, 11, 9, 7]\n",
      "[17, 16, 14, 14, 10, 9]\n",
      "[20, 20, 18, 17, 11, 11]\n"
     ]
    }
   ],
   "source": [
    "for _ in range(4):\n",
    "    print(bj_round_till_win_group())"
   ]
  }
 ],
 "metadata": {
  "kernelspec": {
   "display_name": "Python 3 (ipykernel)",
   "language": "python",
   "name": "python3"
  },
  "language_info": {
   "codemirror_mode": {
    "name": "ipython",
    "version": 3
   },
   "file_extension": ".py",
   "mimetype": "text/x-python",
   "name": "python",
   "nbconvert_exporter": "python",
   "pygments_lexer": "ipython3",
   "version": "3.12.2"
  },
  "toc": {
   "base_numbering": 1,
   "nav_menu": {},
   "number_sections": true,
   "sideBar": true,
   "skip_h1_title": false,
   "title_cell": "Table of Contents",
   "title_sidebar": "Contents",
   "toc_cell": false,
   "toc_position": {},
   "toc_section_display": true,
   "toc_window_display": false
  }
 },
 "nbformat": 4,
 "nbformat_minor": 5
}
